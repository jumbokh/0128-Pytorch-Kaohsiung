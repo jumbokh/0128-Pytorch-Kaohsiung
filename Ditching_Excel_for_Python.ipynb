{
  "nbformat": 4,
  "nbformat_minor": 0,
  "metadata": {
    "kernelspec": {
      "display_name": "Python 3",
      "language": "python",
      "name": "python3"
    },
    "language_info": {
      "codemirror_mode": {
        "name": "ipython",
        "version": 3
      },
      "file_extension": ".py",
      "mimetype": "text/x-python",
      "name": "python",
      "nbconvert_exporter": "python",
      "pygments_lexer": "ipython3",
      "version": "3.7.1"
    },
    "colab": {
      "name": "Ditching Excel for Python.ipynb",
      "version": "0.3.2",
      "provenance": [],
      "include_colab_link": true
    }
  },
  "cells": [
    {
      "cell_type": "markdown",
      "metadata": {
        "id": "view-in-github",
        "colab_type": "text"
      },
      "source": [
        "<a href=\"https://colab.research.google.com/github/jumbokh/0128-Pytorch-Kaohsiung/blob/master/Ditching_Excel_for_Python.ipynb\" target=\"_parent\"><img src=\"https://colab.research.google.com/assets/colab-badge.svg\" alt=\"Open In Colab\"/></a>"
      ]
    },
    {
      "cell_type": "markdown",
      "metadata": {
        "id": "kFwsdXaM--Gi",
        "colab_type": "text"
      },
      "source": [
        "# <center>Ditching Excel for Python</center>"
      ]
    },
    {
      "cell_type": "markdown",
      "metadata": {
        "id": "hJm-2-XX--Gk",
        "colab_type": "text"
      },
      "source": [
        "After spending almost a decade with my first love Excel, its time to move on and search for a better half who in thick and thin of my daily tasks is with me and is much better and faster and who can give me a cutting edge in the challenging technological times where new technology is getting ditched by something new at a very rapid pace.\n",
        "The idea is to replicate almost all excel functionalities in Python, be it using a simple filter or a complex task of creating an array of data from the rows and crunching them to get fancy results"
      ]
    },
    {
      "cell_type": "markdown",
      "metadata": {
        "id": "6JOO3dLJ--Gm",
        "colab_type": "text"
      },
      "source": [
        "The approach followed here is to start from simple tasks and move to complex computational tasks.\n",
        "I've tried and designed it such a way that this can be used a universal notebook and you just just have to change the input file and you can get the same result.\n",
        "However I will encourage you to please replicate the steps yourself for your better understanding."
      ]
    },
    {
      "cell_type": "markdown",
      "metadata": {
        "id": "hkLH7CtE--Gn",
        "colab_type": "text"
      },
      "source": [
        "The inspiration to create something like this came from the non-availablity of a free tutorial which literally gives all. I heavily read and follow Python documentation and you will find a lot of inspiration from that site."
      ]
    },
    {
      "cell_type": "markdown",
      "metadata": {
        "id": "1zOMTVqS--Gp",
        "colab_type": "text"
      },
      "source": [
        "_Our Input and Ouput is both an Excel file :)_"
      ]
    },
    {
      "cell_type": "markdown",
      "metadata": {
        "id": "61oETg4p--Gq",
        "colab_type": "text"
      },
      "source": [
        "<pre>------------------------------------------------------------------------------------------</pre>"
      ]
    },
    {
      "cell_type": "markdown",
      "metadata": {
        "id": "2Qv0E1zR--Gs",
        "colab_type": "text"
      },
      "source": [
        "## Importing Excel Files into a Pandas DataFrame"
      ]
    },
    {
      "cell_type": "markdown",
      "metadata": {
        "id": "q2VU3KMx--Gt",
        "colab_type": "text"
      },
      "source": [
        "Initial step is to import excel files into dtaframe so we can perform all our tasks on it.\n",
        "<br>I will be demonstrating the __read_excel__ method of Pandas which supports __xls__ and __xlsx__ file extensions.\n",
        "<br>__read_csv__ is same as using read_excel, we wont go in depth but I will share an example."
      ]
    },
    {
      "cell_type": "markdown",
      "metadata": {
        "id": "8XYKHzhs--Gv",
        "colab_type": "text"
      },
      "source": [
        "Though __read_excel__ method includes million arguments but I will make you familiarise with the most common ones that will come very handy in day to day operations"
      ]
    },
    {
      "cell_type": "markdown",
      "metadata": {
        "id": "tobnnB4L--Gw",
        "colab_type": "text"
      },
      "source": [
        "I'll be using the Iris sample dataset which is freely available online for educational purpose.\n",
        "<br>Please follow the below link to download the dataset and ensure to save it in the same folder where you are saving your python file"
      ]
    },
    {
      "cell_type": "markdown",
      "metadata": {
        "id": "77UKQngq--Gy",
        "colab_type": "text"
      },
      "source": [
        "https://archive.ics.uci.edu/ml/datasets/iris"
      ]
    },
    {
      "cell_type": "markdown",
      "metadata": {
        "id": "0IJZblrZ--Gy",
        "colab_type": "text"
      },
      "source": [
        "## The first step is to import necessary libraries in Python"
      ]
    },
    {
      "cell_type": "code",
      "metadata": {
        "id": "MThvaD_l--Gz",
        "colab_type": "code",
        "colab": {}
      },
      "source": [
        "import pandas as pd\n",
        "import numpy as np"
      ],
      "execution_count": 0,
      "outputs": []
    },
    {
      "cell_type": "markdown",
      "metadata": {
        "id": "eZsnep9U--G1",
        "colab_type": "text"
      },
      "source": [
        "We can import the spreadsheet data into Python using the following code:"
      ]
    },
    {
      "cell_type": "markdown",
      "metadata": {
        "id": "SzPpOWuq--G2",
        "colab_type": "text"
      },
      "source": [
        "pandas.read_excel(io, sheet_name=0, header=0, names=None, index_col=None, parse_cols=None, usecols=None, squeeze=False, dtype=None, engine=None, converters=None, true_values=None, false_values=None, skiprows=None, nrows=None, na_values=None, keep_default_na=True, verbose=False, parse_dates=False, date_parser=None, thousands=None, comment=None, skip_footer=0, skipfooter=0, convert_float=True, mangle_dupe_cols=True, **kwds)"
      ]
    },
    {
      "cell_type": "markdown",
      "metadata": {
        "id": "iGLZ3Yyo--G3",
        "colab_type": "text"
      },
      "source": [
        "Since there's a plethora of arguments available, lets look at the most used one's."
      ]
    },
    {
      "cell_type": "markdown",
      "metadata": {
        "id": "v4ANIWH6--G3",
        "colab_type": "text"
      },
      "source": [
        "### Important Pandas read_excel Options"
      ]
    },
    {
      "cell_type": "markdown",
      "metadata": {
        "id": "7FdECD_s--G5",
        "colab_type": "text"
      },
      "source": [
        "|\tArgument\t|\tDescription\t|\n",
        "|\t\t-|\t\t|\n",
        "|\tio\t|\tA string containing the pathname of the given Excel file.\t|\n",
        "|\tsheet_name\t|\tThe Excel sheet name, or sheet number, of the data you want to import. The sheet number can be an integer where 0 is the first sheet, 1 is the second, etc. If a list of sheet names/numbers are given, then the output will be a dictionary of DataFrames. The default is to read all the sheets and output a dictionary of DataFrames.\t|\n",
        "|\theader\t|\tRow number to use for the list of column labels. The default is 0, indicating that the first row is assumed to contain the column labels. If the data does not have a row of column labels, None should be used.\t|\n",
        "|\tnames\t|\tA separate Python list input of column names. This option is None by default. This option is the equivalent of assigning a list of column names to the columns attribute of the output DataFrame.\t|\n",
        "|\tindex_col\t|\tSpecifies which column should be used for row indices. The default option is None, meaning that all columns are included in the data, and a range of numbers is used as the row indices.\t|\n",
        "|\tusecols\t|\tAn integer, list of integers, or string that specifies the columns to be imported into the DataFrame. The default is to import all columns. If a string is given, then Pandas uses the standard Excel format to select columns (e.g. \"A:C,F,G\" will import columns A, B, C, F, and G).\t|\n",
        "|\tskiprows\t|\tThe number of rows to skip at the top of the Excel sheet. Default is 0. This option is useful for skipping rows in Excel that contain explanatory information about the data below it.\t|\n"
      ]
    },
    {
      "cell_type": "markdown",
      "metadata": {
        "id": "FuYvLUA4--G6",
        "colab_type": "text"
      },
      "source": [
        "If we are using the path for our local file by default its separated by \"\\\" however python accepts \"/\", \n",
        "so make to change the slashes or simply add the file in the same folder where your python file is.\n",
        "Should you require detailed explanation on the above, refer to the below medium article.\n",
        "https://medium.com/@ageitgey/python-3-quick-tip-the-easy-way-to-deal-with-file-paths-on-windows-mac-and-linux-11a072b58d5f"
      ]
    },
    {
      "cell_type": "markdown",
      "metadata": {
        "id": "5suLl6Wx--G6",
        "colab_type": "text"
      },
      "source": [
        "We can use Python to scan files in a directory and pick out the ones we want."
      ]
    },
    {
      "cell_type": "code",
      "metadata": {
        "scrolled": true,
        "id": "E5QTmpvs--G7",
        "colab_type": "code",
        "colab": {}
      },
      "source": [
        "wkbks = glob(os.path.join(os.pardir, 'input', 'xlsx_files_all', 'Ir*.xls'))\n",
        "sorted(wkbks)"
      ],
      "execution_count": 0,
      "outputs": []
    },
    {
      "cell_type": "code",
      "metadata": {
        "id": "TsGQGEco--G9",
        "colab_type": "code",
        "colab": {}
      },
      "source": [
        "filename = 'Iris.xlsx'"
      ],
      "execution_count": 0,
      "outputs": []
    },
    {
      "cell_type": "code",
      "metadata": {
        "id": "fK_gxRrG--G_",
        "colab_type": "code",
        "colab": {}
      },
      "source": [
        "df = pd.read_excel(filename)"
      ],
      "execution_count": 0,
      "outputs": []
    },
    {
      "cell_type": "code",
      "metadata": {
        "id": "udt56QWY--HB",
        "colab_type": "code",
        "colab": {}
      },
      "source": [
        "print(df)"
      ],
      "execution_count": 0,
      "outputs": []
    },
    {
      "cell_type": "markdown",
      "metadata": {
        "id": "FQSHcLlv--HC",
        "colab_type": "text"
      },
      "source": [
        "## Import a specifc sheet"
      ]
    },
    {
      "cell_type": "markdown",
      "metadata": {
        "id": "qohs5kZl--HD",
        "colab_type": "text"
      },
      "source": [
        "By default, the first sheet in the file is imported to the dataframe as it is.\n",
        "<br>Using the sheet_name argument we can explicitly mention the sheet that we want to import. Defuat value is 0 i.e. teh first sheet in the file.\n",
        "    <br>We can either mention the name of the sheet(s) or pass an integer value to refer to the index of the sheet"
      ]
    },
    {
      "cell_type": "code",
      "metadata": {
        "id": "MHML2_Bq--HE",
        "colab_type": "code",
        "colab": {}
      },
      "source": [
        "df1 = pd.read_excel(filename,sheet_name='Sheet2')"
      ],
      "execution_count": 0,
      "outputs": []
    },
    {
      "cell_type": "code",
      "metadata": {
        "id": "DgyPop8l--HF",
        "colab_type": "code",
        "colab": {}
      },
      "source": [
        "print(df1)"
      ],
      "execution_count": 0,
      "outputs": []
    },
    {
      "cell_type": "markdown",
      "metadata": {
        "id": "-5j6Xr72--HI",
        "colab_type": "text"
      },
      "source": [
        "## Using a column from the sheet as an Index"
      ]
    },
    {
      "cell_type": "markdown",
      "metadata": {
        "id": "oefaC9bi--HI",
        "colab_type": "text"
      },
      "source": [
        "Unless explicitly mentioned, an index column is added to the dataframe which by default starts from a 0.\n",
        "<br>Using the index_col argumement we can manipulate the index column in our dataframe, if we set the value 0 from none, it will use the first column as our index."
      ]
    },
    {
      "cell_type": "code",
      "metadata": {
        "id": "EMFlhUVJ--HJ",
        "colab_type": "code",
        "colab": {}
      },
      "source": [
        "df = pd.read_excel(filename,sheet_name='Sheet1', index_col=0)"
      ],
      "execution_count": 0,
      "outputs": []
    },
    {
      "cell_type": "code",
      "metadata": {
        "id": "CxvVYPoy--HM",
        "colab_type": "code",
        "colab": {}
      },
      "source": [
        "print(df)"
      ],
      "execution_count": 0,
      "outputs": []
    },
    {
      "cell_type": "markdown",
      "metadata": {
        "id": "auJMhCZP--HP",
        "colab_type": "text"
      },
      "source": [
        "## Skip rows and columns"
      ]
    },
    {
      "cell_type": "markdown",
      "metadata": {
        "id": "6YnxvjQQ--HP",
        "colab_type": "text"
      },
      "source": [
        "The default read_excel parameters assumes that the first row is a list of column names, which is incorporated automatically as column labels within the DataFrame.\n",
        "<br>Using the arguments like skiprows and header we can manipulate the behaviour of the imported dataframe"
      ]
    },
    {
      "cell_type": "code",
      "metadata": {
        "id": "mYjKJJqD--HQ",
        "colab_type": "code",
        "colab": {}
      },
      "source": [
        "df = pd.read_excel(filename, sheet_name='Sheet1', header=None, skiprows=1, index_col=0)"
      ],
      "execution_count": 0,
      "outputs": []
    },
    {
      "cell_type": "code",
      "metadata": {
        "id": "-kPIeuc9--HS",
        "colab_type": "code",
        "colab": {}
      },
      "source": [
        "print(df)"
      ],
      "execution_count": 0,
      "outputs": []
    },
    {
      "cell_type": "markdown",
      "metadata": {
        "id": "yOdr-_ki--HU",
        "colab_type": "text"
      },
      "source": [
        "## Import a specifc column(s)"
      ]
    },
    {
      "cell_type": "markdown",
      "metadata": {
        "id": "UvUc7fpG--HU",
        "colab_type": "text"
      },
      "source": [
        "Using the usecols argument we can specify if we have import a specific column in our dataframe"
      ]
    },
    {
      "cell_type": "code",
      "metadata": {
        "id": "dZ9JkypR--HV",
        "colab_type": "code",
        "colab": {}
      },
      "source": [
        "df = pd.read_excel(filename, sheet_name='Sheet1', header=None, skiprows=1, usecols='B,D')"
      ],
      "execution_count": 0,
      "outputs": []
    },
    {
      "cell_type": "code",
      "metadata": {
        "id": "6ifxeOx1--HX",
        "colab_type": "code",
        "colab": {}
      },
      "source": [
        "print(df)"
      ],
      "execution_count": 0,
      "outputs": []
    },
    {
      "cell_type": "code",
      "metadata": {
        "id": "b74FLyEr--Hc",
        "colab_type": "code",
        "colab": {}
      },
      "source": [
        "df = pd.read_excel(filename)\n",
        "#Importing the file again to the dataframe in the original shape to use it for further analysis"
      ],
      "execution_count": 0,
      "outputs": []
    },
    {
      "cell_type": "markdown",
      "metadata": {
        "id": "e5BFbW9Z--He",
        "colab_type": "text"
      },
      "source": [
        "_Its not the end of the features available however its a start and you can play around with them as per your requirements_"
      ]
    },
    {
      "cell_type": "markdown",
      "metadata": {
        "id": "hDBk_B7t--Hf",
        "colab_type": "text"
      },
      "source": [
        "<pre>------------------------------------------------------------------------------------------</pre>"
      ]
    },
    {
      "cell_type": "markdown",
      "metadata": {
        "id": "tyDM2YsI--Hf",
        "colab_type": "text"
      },
      "source": [
        "## Lets have a look at the data from 10,000 feet"
      ]
    },
    {
      "cell_type": "markdown",
      "metadata": {
        "id": "Fs-kGPkd--Hg",
        "colab_type": "text"
      },
      "source": [
        "As now we have our dataframe, lets look at the data from multiple angles just to get a hang of it/\n",
        "<br>Pandas have plenty of functions available that we can use. We'll use some of them to have a glimpse of our dataset."
      ]
    },
    {
      "cell_type": "markdown",
      "metadata": {
        "id": "KA3m5EN9--Hg",
        "colab_type": "text"
      },
      "source": [
        "## \"Head\" to \"Tail\": \n",
        "To view the first or last __five__ rows.\n",
        "<br>_Default is five, however the argument allows us to use a specific number_"
      ]
    },
    {
      "cell_type": "code",
      "metadata": {
        "id": "ghy_PMBL--Hh",
        "colab_type": "code",
        "colab": {}
      },
      "source": [
        "df.head(10)"
      ],
      "execution_count": 0,
      "outputs": []
    },
    {
      "cell_type": "code",
      "metadata": {
        "id": "iZH5KiMe--Hi",
        "colab_type": "code",
        "colab": {}
      },
      "source": [
        "df.tail()"
      ],
      "execution_count": 0,
      "outputs": []
    },
    {
      "cell_type": "markdown",
      "metadata": {
        "id": "C8BuJd_l--Hk",
        "colab_type": "text"
      },
      "source": [
        "## View specific column's data"
      ]
    },
    {
      "cell_type": "code",
      "metadata": {
        "scrolled": true,
        "id": "VTWRcPy6--Hk",
        "colab_type": "code",
        "colab": {}
      },
      "source": [
        "df['SepalLength'].head()"
      ],
      "execution_count": 0,
      "outputs": []
    },
    {
      "cell_type": "markdown",
      "metadata": {
        "id": "qby8If5R--Hm",
        "colab_type": "text"
      },
      "source": [
        "## Getting the name of all columns"
      ]
    },
    {
      "cell_type": "code",
      "metadata": {
        "id": "8osHbJ95--Hm",
        "colab_type": "code",
        "colab": {}
      },
      "source": [
        "df.columns"
      ],
      "execution_count": 0,
      "outputs": []
    },
    {
      "cell_type": "markdown",
      "metadata": {
        "id": "nwOhWywC--Ho",
        "colab_type": "text"
      },
      "source": [
        "## Info Method\n",
        "Gives a summary of Dataframe"
      ]
    },
    {
      "cell_type": "code",
      "metadata": {
        "scrolled": true,
        "id": "Q75xLEqM--Ho",
        "colab_type": "code",
        "colab": {}
      },
      "source": [
        "df.info()"
      ],
      "execution_count": 0,
      "outputs": []
    },
    {
      "cell_type": "markdown",
      "metadata": {
        "id": "ikFbUmht--Hq",
        "colab_type": "text"
      },
      "source": [
        "## Shape Method\n",
        "Returns the dimensions of Dataframe"
      ]
    },
    {
      "cell_type": "code",
      "metadata": {
        "id": "nSnntfW5--Hr",
        "colab_type": "code",
        "colab": {}
      },
      "source": [
        "df.shape[0]"
      ],
      "execution_count": 0,
      "outputs": []
    },
    {
      "cell_type": "code",
      "metadata": {
        "id": "VqDqIXDi--Ht",
        "colab_type": "code",
        "colab": {}
      },
      "source": [
        "print('Total rows in Dataframe is: ',  df.shape[0])\n",
        "print('Total columns in Dataframe is: ',  df.shape[0])"
      ],
      "execution_count": 0,
      "outputs": []
    },
    {
      "cell_type": "markdown",
      "metadata": {
        "id": "ScOqq78Z--Hu",
        "colab_type": "text"
      },
      "source": [
        "## Look at the datatypes in Dataframe"
      ]
    },
    {
      "cell_type": "code",
      "metadata": {
        "id": "B4fzmNgf--Hu",
        "colab_type": "code",
        "colab": {}
      },
      "source": [
        "df.dtypes"
      ],
      "execution_count": 0,
      "outputs": []
    },
    {
      "cell_type": "markdown",
      "metadata": {
        "id": "lp9nfDhz--Hw",
        "colab_type": "text"
      },
      "source": [
        "<pre>------------------------------------------------------------------------------------------</pre>"
      ]
    },
    {
      "cell_type": "markdown",
      "metadata": {
        "id": "Ltc90m6B--Hx",
        "colab_type": "text"
      },
      "source": [
        "# Slice and Dice i.e. Excel filters"
      ]
    },
    {
      "cell_type": "markdown",
      "metadata": {
        "id": "rcdNTIot--Hx",
        "colab_type": "text"
      },
      "source": [
        "Descriptive reporting is all about data subsets and aggregations, the moment we are to understand our data a little bit we start using filters to look at the smaller sets of data or view a particular column maybe to have a better understanding.\n",
        "<br>Python offers a lot of different methods to slice and dice the dataframes, we'll play around with a couple of them to have an understanding of how it works"
      ]
    },
    {
      "cell_type": "markdown",
      "metadata": {
        "id": "0L33BQDD--Hy",
        "colab_type": "text"
      },
      "source": [
        "## View a specific column"
      ]
    },
    {
      "cell_type": "markdown",
      "metadata": {
        "id": "WtFxGWVT--Hy",
        "colab_type": "text"
      },
      "source": [
        "There exists three main methods to select columns:\n",
        "\n",
        "* Use dot notation: e.g. data.column_name\n",
        "* Use square braces and the name of the column:, e.g. data['column_name']\n",
        "* Use numeric indexing and the iloc selector data.loc[:, 'column_number']"
      ]
    },
    {
      "cell_type": "code",
      "metadata": {
        "id": "UF7wX6lA--Hz",
        "colab_type": "code",
        "colab": {}
      },
      "source": [
        "df['Name'].head()"
      ],
      "execution_count": 0,
      "outputs": []
    },
    {
      "cell_type": "code",
      "metadata": {
        "id": "Fe6Sx_5q--H1",
        "colab_type": "code",
        "colab": {}
      },
      "source": [
        "df.iloc[:,[4]].head()"
      ],
      "execution_count": 0,
      "outputs": []
    },
    {
      "cell_type": "code",
      "metadata": {
        "id": "IVNNW5k0--H2",
        "colab_type": "code",
        "colab": {}
      },
      "source": [
        "df.loc[:,['Name']].head()"
      ],
      "execution_count": 0,
      "outputs": []
    },
    {
      "cell_type": "markdown",
      "metadata": {
        "id": "HVQ31_4---H5",
        "colab_type": "text"
      },
      "source": [
        "## View multiple columns"
      ]
    },
    {
      "cell_type": "code",
      "metadata": {
        "id": "fkIsNCuZ--H5",
        "colab_type": "code",
        "colab": {}
      },
      "source": [
        "df[['Name', 'PetalLength']].head()"
      ],
      "execution_count": 0,
      "outputs": []
    },
    {
      "cell_type": "code",
      "metadata": {
        "scrolled": true,
        "id": "ycEOA1sZ--H8",
        "colab_type": "code",
        "colab": {}
      },
      "source": [
        "#Pass a variable as a list\n",
        "SpecificColumnList = ['Name', 'PetalLength']\n",
        "df[SpecificColumnList].head()"
      ],
      "execution_count": 0,
      "outputs": []
    },
    {
      "cell_type": "markdown",
      "metadata": {
        "id": "Zs83UqcU--H9",
        "colab_type": "text"
      },
      "source": [
        "## View specific row's data\n",
        "The method used here is slicing using the loc function, where we can specify the start and end row separated by colon\n",
        "<br>Remember, __index starts from a 0 and not 1__"
      ]
    },
    {
      "cell_type": "code",
      "metadata": {
        "id": "lPZIOGWC--H9",
        "colab_type": "code",
        "colab": {}
      },
      "source": [
        "df.loc[20:30] "
      ],
      "execution_count": 0,
      "outputs": []
    },
    {
      "cell_type": "markdown",
      "metadata": {
        "id": "nFMNR7xe--H_",
        "colab_type": "text"
      },
      "source": [
        "## Slice rows and columns together"
      ]
    },
    {
      "cell_type": "code",
      "metadata": {
        "id": "h6xRfepe--IA",
        "colab_type": "code",
        "colab": {}
      },
      "source": [
        "df.loc[20:30, ['Name']]"
      ],
      "execution_count": 0,
      "outputs": []
    },
    {
      "cell_type": "markdown",
      "metadata": {
        "id": "FOuouMfi--IE",
        "colab_type": "text"
      },
      "source": [
        "## Filter data in a column"
      ]
    },
    {
      "cell_type": "code",
      "metadata": {
        "id": "4IynsI0N--IF",
        "colab_type": "code",
        "colab": {}
      },
      "source": [
        "df[df['Name'] == 'Iris-versicolor'].head()"
      ],
      "execution_count": 0,
      "outputs": []
    },
    {
      "cell_type": "markdown",
      "metadata": {
        "id": "dZxx1RSU--IG",
        "colab_type": "text"
      },
      "source": [
        "## Filter multiple values"
      ]
    },
    {
      "cell_type": "code",
      "metadata": {
        "id": "91zPcqQN--IH",
        "colab_type": "code",
        "colab": {}
      },
      "source": [
        "df[df['Name'].isin(['Iris-versicolor', 'Iris-virginica'])]"
      ],
      "execution_count": 0,
      "outputs": []
    },
    {
      "cell_type": "markdown",
      "metadata": {
        "id": "pTPhtNLA--II",
        "colab_type": "text"
      },
      "source": [
        "## Filter multiple values using a list"
      ]
    },
    {
      "cell_type": "code",
      "metadata": {
        "id": "kxSqX59Y--IJ",
        "colab_type": "code",
        "colab": {}
      },
      "source": [
        "Filter_Value = ['Iris-versicolor', 'Iris-virginica']"
      ],
      "execution_count": 0,
      "outputs": []
    },
    {
      "cell_type": "code",
      "metadata": {
        "id": "F2E8bYYN--IK",
        "colab_type": "code",
        "colab": {}
      },
      "source": [
        "df[df['Name'].isin(Filter_Value)]"
      ],
      "execution_count": 0,
      "outputs": []
    },
    {
      "cell_type": "markdown",
      "metadata": {
        "id": "UzzNjKtT--IL",
        "colab_type": "text"
      },
      "source": [
        "## Filter values NOT in list or not equal to in Excel"
      ]
    },
    {
      "cell_type": "code",
      "metadata": {
        "id": "Ub6elsPA--IM",
        "colab_type": "code",
        "colab": {}
      },
      "source": [
        "df[~df['Name'].isin(Filter_Value)]"
      ],
      "execution_count": 0,
      "outputs": []
    },
    {
      "cell_type": "markdown",
      "metadata": {
        "id": "V1F7Aycl--IO",
        "colab_type": "text"
      },
      "source": [
        "## Filter usinng using multiple conditions in multiple columns\n",
        "__The input should always be a list__\n",
        "<br>We can use this method to replicate advanced filter function in excel"
      ]
    },
    {
      "cell_type": "code",
      "metadata": {
        "id": "3paqgmLW--IP",
        "colab_type": "code",
        "colab": {}
      },
      "source": [
        "width = [2]\n",
        "Flower_Name = ['Iris-setosa']\n",
        "df[~df['Name'].isin(Flower_Name) & df['PetalWidth'].isin(width)]"
      ],
      "execution_count": 0,
      "outputs": []
    },
    {
      "cell_type": "markdown",
      "metadata": {
        "id": "5MR6R6L4--IQ",
        "colab_type": "text"
      },
      "source": [
        "## Filter using numeric conditions"
      ]
    },
    {
      "cell_type": "code",
      "metadata": {
        "id": "OR0B9J03--IQ",
        "colab_type": "code",
        "colab": {}
      },
      "source": [
        "df[df['SepalLength'] == 5.1].head()"
      ],
      "execution_count": 0,
      "outputs": []
    },
    {
      "cell_type": "code",
      "metadata": {
        "id": "OPojdfsX--IR",
        "colab_type": "code",
        "colab": {}
      },
      "source": [
        "df[df['SepalLength'] > 5.1].head()"
      ],
      "execution_count": 0,
      "outputs": []
    },
    {
      "cell_type": "markdown",
      "metadata": {
        "id": "PPgvFymq--IS",
        "colab_type": "text"
      },
      "source": [
        "## Replicate the custom filter in Excel"
      ]
    },
    {
      "cell_type": "code",
      "metadata": {
        "id": "FiaqT8dZ--IT",
        "colab_type": "code",
        "colab": {}
      },
      "source": [
        "df[df['Name'].map(lambda x: x.endswith('sa'))]"
      ],
      "execution_count": 0,
      "outputs": []
    },
    {
      "cell_type": "markdown",
      "metadata": {
        "id": "iOCVGxml--IU",
        "colab_type": "text"
      },
      "source": [
        "## Combine two filters to get the result"
      ]
    },
    {
      "cell_type": "code",
      "metadata": {
        "id": "63nzEW1Y--IU",
        "colab_type": "code",
        "colab": {}
      },
      "source": [
        "df[df['Name'].map(lambda x: x.endswith('sa')) & (df['SepalLength'] > 5.1)]"
      ],
      "execution_count": 0,
      "outputs": []
    },
    {
      "cell_type": "markdown",
      "metadata": {
        "id": "l8zUBiRc--IW",
        "colab_type": "text"
      },
      "source": [
        "## Contains function in Excel"
      ]
    },
    {
      "cell_type": "code",
      "metadata": {
        "id": "2LFFZLyo--IW",
        "colab_type": "code",
        "colab": {}
      },
      "source": [
        "df[df['Name'].str.contains('set')]"
      ],
      "execution_count": 0,
      "outputs": []
    },
    {
      "cell_type": "markdown",
      "metadata": {
        "id": "Y89LW-lC--IY",
        "colab_type": "text"
      },
      "source": [
        "## Get the unique values from dataframe"
      ]
    },
    {
      "cell_type": "code",
      "metadata": {
        "id": "GVmUzvzZ--IY",
        "colab_type": "code",
        "colab": {}
      },
      "source": [
        "df['SepalLength'].unique()"
      ],
      "execution_count": 0,
      "outputs": []
    },
    {
      "cell_type": "markdown",
      "metadata": {
        "id": "bltpdOly--Ib",
        "colab_type": "text"
      },
      "source": [
        "If we want to view the entire dataframe with the unique values, we can use the drop_duplicates method"
      ]
    },
    {
      "cell_type": "code",
      "metadata": {
        "id": "eWsGrVNa--Ic",
        "colab_type": "code",
        "colab": {}
      },
      "source": [
        "df.drop_duplicates(subset=['Name'])"
      ],
      "execution_count": 0,
      "outputs": []
    },
    {
      "cell_type": "code",
      "metadata": {
        "id": "DNdrw3Do--Id",
        "colab_type": "code",
        "colab": {}
      },
      "source": [
        "df.drop_duplicates(subset=['Name']).iloc[:,[3,4]]"
      ],
      "execution_count": 0,
      "outputs": []
    },
    {
      "cell_type": "markdown",
      "metadata": {
        "id": "TmxrKVFw--Ie",
        "colab_type": "text"
      },
      "source": [
        "## Sort Values"
      ]
    },
    {
      "cell_type": "markdown",
      "metadata": {
        "id": "05xOF2OU--If",
        "colab_type": "text"
      },
      "source": [
        "Sort data by a certain column, by default the sorting is ascending"
      ]
    },
    {
      "cell_type": "code",
      "metadata": {
        "id": "UG09f-9k--If",
        "colab_type": "code",
        "colab": {}
      },
      "source": [
        "df.sort_values(by = ['SepalLength'])"
      ],
      "execution_count": 0,
      "outputs": []
    },
    {
      "cell_type": "code",
      "metadata": {
        "id": "OmSuO85N--Ig",
        "colab_type": "code",
        "colab": {}
      },
      "source": [
        "df.sort_values(by = ['SepalLength'], ascending = False)"
      ],
      "execution_count": 0,
      "outputs": []
    },
    {
      "cell_type": "markdown",
      "metadata": {
        "id": "km11g841--Ih",
        "colab_type": "text"
      },
      "source": [
        "<pre>------------------------------------------------------------------------------------------</pre>"
      ]
    },
    {
      "cell_type": "markdown",
      "metadata": {
        "id": "PFtw17ys--Ii",
        "colab_type": "text"
      },
      "source": [
        "# Statistical summary of data"
      ]
    },
    {
      "cell_type": "markdown",
      "metadata": {
        "id": "0mx5-Qlx--Ii",
        "colab_type": "text"
      },
      "source": [
        "## __DataFrame Describe method:__ \n",
        "_Generate descriptive statistics that summarize the central tendency, dispersion and shape of a dataset’s distribution, excluding NaN values._"
      ]
    },
    {
      "cell_type": "code",
      "metadata": {
        "scrolled": true,
        "id": "K3Lfe4yJ--Ii",
        "colab_type": "code",
        "colab": {}
      },
      "source": [
        "df.describe()"
      ],
      "execution_count": 0,
      "outputs": []
    },
    {
      "cell_type": "markdown",
      "metadata": {
        "id": "5fxT3nR4--Ik",
        "colab_type": "text"
      },
      "source": [
        "Summary stats of character columns"
      ]
    },
    {
      "cell_type": "code",
      "metadata": {
        "id": "1FbMWMsC--Ik",
        "colab_type": "code",
        "colab": {}
      },
      "source": [
        "df.describe(include = ['object'])"
      ],
      "execution_count": 0,
      "outputs": []
    },
    {
      "cell_type": "code",
      "metadata": {
        "id": "ul941glH--Im",
        "colab_type": "code",
        "colab": {}
      },
      "source": [
        "df.describe(include = 'all')"
      ],
      "execution_count": 0,
      "outputs": []
    },
    {
      "cell_type": "markdown",
      "metadata": {
        "id": "gjRlduei--Ip",
        "colab_type": "text"
      },
      "source": [
        "<pre>------------------------------------------------------------------------------------------</pre>"
      ]
    },
    {
      "cell_type": "markdown",
      "metadata": {
        "id": "tMrkXEXY--Iq",
        "colab_type": "text"
      },
      "source": [
        "# <centre>Data Aggregation</centre>"
      ]
    },
    {
      "cell_type": "markdown",
      "metadata": {
        "id": "vWKI4q3x--Iq",
        "colab_type": "text"
      },
      "source": [
        "## Counting the unique values of a particular column. \n",
        "_Resulting output is a Series. You can refer it as a Single column Pivot Table_"
      ]
    },
    {
      "cell_type": "code",
      "metadata": {
        "id": "QwENbZKs--Ir",
        "colab_type": "code",
        "colab": {}
      },
      "source": [
        "pd.value_counts(df['Name'])"
      ],
      "execution_count": 0,
      "outputs": []
    },
    {
      "cell_type": "markdown",
      "metadata": {
        "id": "fVnvbICx--Is",
        "colab_type": "text"
      },
      "source": [
        "## Count cells\n",
        "Count non-NA cells for each column or row."
      ]
    },
    {
      "cell_type": "code",
      "metadata": {
        "scrolled": true,
        "id": "MeNBZlx0--It",
        "colab_type": "code",
        "colab": {}
      },
      "source": [
        "df.count(axis=0)"
      ],
      "execution_count": 0,
      "outputs": []
    },
    {
      "cell_type": "markdown",
      "metadata": {
        "id": "DfgLPtbD--Iv",
        "colab_type": "text"
      },
      "source": [
        "## Sum\n",
        "Summarising the data to get a snapshot of either by rows or columns"
      ]
    },
    {
      "cell_type": "code",
      "metadata": {
        "id": "0ryg6CiW--Iv",
        "colab_type": "code",
        "colab": {}
      },
      "source": [
        "df.sum(axis = 0) # 0 for column wise total"
      ],
      "execution_count": 0,
      "outputs": []
    },
    {
      "cell_type": "markdown",
      "metadata": {
        "id": "F-eRPK-E--Iw",
        "colab_type": "text"
      },
      "source": [
        "Its replicates the method of adding a total column against each row"
      ]
    },
    {
      "cell_type": "code",
      "metadata": {
        "id": "JemDUax---Ix",
        "colab_type": "code",
        "colab": {}
      },
      "source": [
        "df.sum(axis =1) # row wise sum"
      ],
      "execution_count": 0,
      "outputs": []
    },
    {
      "cell_type": "markdown",
      "metadata": {
        "id": "ObGJeOYn--Iy",
        "colab_type": "text"
      },
      "source": [
        "## Add a total column to the existing dataset"
      ]
    },
    {
      "cell_type": "code",
      "metadata": {
        "id": "jUh7BrUe--Iy",
        "colab_type": "code",
        "colab": {}
      },
      "source": [
        "df['Total'] = df.sum(axis =1)"
      ],
      "execution_count": 0,
      "outputs": []
    },
    {
      "cell_type": "code",
      "metadata": {
        "id": "DshSgzff--Iz",
        "colab_type": "code",
        "colab": {}
      },
      "source": [
        "df.head()"
      ],
      "execution_count": 0,
      "outputs": []
    },
    {
      "cell_type": "markdown",
      "metadata": {
        "id": "rrXNWaD9--I0",
        "colab_type": "text"
      },
      "source": [
        "## Sum of specific columns, use the loc methos and pass the column names"
      ]
    },
    {
      "cell_type": "code",
      "metadata": {
        "id": "WX93-mvJ--I1",
        "colab_type": "code",
        "colab": {}
      },
      "source": [
        "df['Total_loc']=df.loc[:,['SepalLength', 'SepalWidth']].sum(axis=1)"
      ],
      "execution_count": 0,
      "outputs": []
    },
    {
      "cell_type": "code",
      "metadata": {
        "scrolled": true,
        "id": "JsvfZnLe--I2",
        "colab_type": "code",
        "colab": {}
      },
      "source": [
        "df.head()"
      ],
      "execution_count": 0,
      "outputs": []
    },
    {
      "cell_type": "markdown",
      "metadata": {
        "id": "omKpIUca--I4",
        "colab_type": "text"
      },
      "source": [
        "## Or, we can use the below method"
      ]
    },
    {
      "cell_type": "code",
      "metadata": {
        "id": "lgQ3tR36--I4",
        "colab_type": "code",
        "colab": {}
      },
      "source": [
        "df['Total_DFSum']= df['SepalLength'] + df['SepalWidth']"
      ],
      "execution_count": 0,
      "outputs": []
    },
    {
      "cell_type": "code",
      "metadata": {
        "id": "6BMJ5Kp2--I7",
        "colab_type": "code",
        "colab": {}
      },
      "source": [
        "df.head()"
      ],
      "execution_count": 0,
      "outputs": []
    },
    {
      "cell_type": "markdown",
      "metadata": {
        "id": "r73iPrqs--I8",
        "colab_type": "text"
      },
      "source": [
        "### Don't like the new column, delete it using drop method"
      ]
    },
    {
      "cell_type": "code",
      "metadata": {
        "id": "nboEcppa--I-",
        "colab_type": "code",
        "colab": {}
      },
      "source": [
        "df.drop(['Total_DFSum'], axis = 1)"
      ],
      "execution_count": 0,
      "outputs": []
    },
    {
      "cell_type": "markdown",
      "metadata": {
        "id": "03aVGc6Q--I_",
        "colab_type": "text"
      },
      "source": [
        "## Adding sum-total beneath each column"
      ]
    },
    {
      "cell_type": "code",
      "metadata": {
        "id": "0_PtmEb_--I_",
        "colab_type": "code",
        "colab": {}
      },
      "source": [
        "Sum_Total = df[['SepalLength', 'SepalWidth', 'Total']].sum()"
      ],
      "execution_count": 0,
      "outputs": []
    },
    {
      "cell_type": "code",
      "metadata": {
        "id": "_1z9PyeB--JA",
        "colab_type": "code",
        "colab": {}
      },
      "source": [
        "Sum_Total"
      ],
      "execution_count": 0,
      "outputs": []
    },
    {
      "cell_type": "code",
      "metadata": {
        "id": "zyRKkpSr--JB",
        "colab_type": "code",
        "colab": {}
      },
      "source": [
        "T_Sum = pd.DataFrame(data=Sum_Total).T"
      ],
      "execution_count": 0,
      "outputs": []
    },
    {
      "cell_type": "code",
      "metadata": {
        "id": "SnrdcE5A--JD",
        "colab_type": "code",
        "colab": {}
      },
      "source": [
        "T_Sum"
      ],
      "execution_count": 0,
      "outputs": []
    },
    {
      "cell_type": "code",
      "metadata": {
        "id": "4N0MBNSm--JE",
        "colab_type": "code",
        "colab": {}
      },
      "source": [
        "T_Sum = T_Sum.reindex(columns=df.columns)"
      ],
      "execution_count": 0,
      "outputs": []
    },
    {
      "cell_type": "code",
      "metadata": {
        "id": "95liy8_g--JF",
        "colab_type": "code",
        "colab": {}
      },
      "source": [
        "T_Sum"
      ],
      "execution_count": 0,
      "outputs": []
    },
    {
      "cell_type": "code",
      "metadata": {
        "id": "2uVkBLuH--JG",
        "colab_type": "code",
        "colab": {}
      },
      "source": [
        "Row_Total = df.append(T_Sum,ignore_index=True)"
      ],
      "execution_count": 0,
      "outputs": []
    },
    {
      "cell_type": "code",
      "metadata": {
        "id": "3FX3HaFT--JI",
        "colab_type": "code",
        "colab": {}
      },
      "source": [
        "Row_Total"
      ],
      "execution_count": 0,
      "outputs": []
    },
    {
      "cell_type": "markdown",
      "metadata": {
        "id": "OEUBDxXo--JK",
        "colab_type": "text"
      },
      "source": [
        "A lot has been done above, the approach that we are using is:\n",
        "* Sum_Total: Do the sum of columns\n",
        "* T_Sum: Convert the series output to dataframe and transpose\n",
        "* Re-index to add missing columns\n",
        "* Row_Total: append T_Sum to existing dataframe"
      ]
    },
    {
      "cell_type": "markdown",
      "metadata": {
        "id": "Nb52FtxV--JL",
        "colab_type": "text"
      },
      "source": [
        "## Sum based on criteria i.e. Sumif in Excel"
      ]
    },
    {
      "cell_type": "code",
      "metadata": {
        "id": "GRIyNU-k--JL",
        "colab_type": "code",
        "colab": {}
      },
      "source": [
        "df[df['Name'] == 'Iris-versicolor'].sum()"
      ],
      "execution_count": 0,
      "outputs": []
    },
    {
      "cell_type": "markdown",
      "metadata": {
        "id": "QJIHZllS--JN",
        "colab_type": "text"
      },
      "source": [
        "## Sumifs"
      ]
    },
    {
      "cell_type": "code",
      "metadata": {
        "id": "m_T9SAhC--JN",
        "colab_type": "code",
        "colab": {}
      },
      "source": [
        "df[df['Name'].map(lambda x: x.endswith('sa')) & (df['SepalLength'] > 5.1)].sum()"
      ],
      "execution_count": 0,
      "outputs": []
    },
    {
      "cell_type": "markdown",
      "metadata": {
        "id": "TOvccN4A--JQ",
        "colab_type": "text"
      },
      "source": [
        "## Averageif"
      ]
    },
    {
      "cell_type": "code",
      "metadata": {
        "id": "rr0QPZ6I--JR",
        "colab_type": "code",
        "colab": {}
      },
      "source": [
        "df[df['Name'] == 'Iris-versicolor'].mean()"
      ],
      "execution_count": 0,
      "outputs": []
    },
    {
      "cell_type": "markdown",
      "metadata": {
        "id": "trDfiHyy--JS",
        "colab_type": "text"
      },
      "source": [
        "## Averageifs"
      ]
    },
    {
      "cell_type": "code",
      "metadata": {
        "id": "YmRl-80F--JT",
        "colab_type": "code",
        "colab": {}
      },
      "source": [
        "df[df['Name'].map(lambda x: x.endswith('sa')) & (df['SepalLength'] > 5.1)].mean()"
      ],
      "execution_count": 0,
      "outputs": []
    },
    {
      "cell_type": "markdown",
      "metadata": {
        "id": "SL__BUSm--JU",
        "colab_type": "text"
      },
      "source": [
        "## Max"
      ]
    },
    {
      "cell_type": "code",
      "metadata": {
        "id": "H1O5G7eQ--JU",
        "colab_type": "code",
        "colab": {}
      },
      "source": [
        "df[df['Name'] == 'Iris-versicolor'].max()"
      ],
      "execution_count": 0,
      "outputs": []
    },
    {
      "cell_type": "markdown",
      "metadata": {
        "id": "aRb0VWat--JW",
        "colab_type": "text"
      },
      "source": [
        "## Min"
      ]
    },
    {
      "cell_type": "code",
      "metadata": {
        "id": "kY8XLN4J--JW",
        "colab_type": "code",
        "colab": {}
      },
      "source": [
        "df[df['Name'] == 'Iris-versicolor'].min()"
      ],
      "execution_count": 0,
      "outputs": []
    },
    {
      "cell_type": "markdown",
      "metadata": {
        "id": "8Wh7R22Q--JY",
        "colab_type": "text"
      },
      "source": [
        "# Groupby i.e. Subtotals in Excel"
      ]
    },
    {
      "cell_type": "code",
      "metadata": {
        "id": "rcXGdi9D--JZ",
        "colab_type": "code",
        "colab": {}
      },
      "source": [
        "df[['Name','SepalLength']].groupby('Name').sum()"
      ],
      "execution_count": 0,
      "outputs": []
    },
    {
      "cell_type": "code",
      "metadata": {
        "id": "UTGC7uEH--Ja",
        "colab_type": "code",
        "colab": {}
      },
      "source": [
        "GroupBy = df.groupby('Name').sum()"
      ],
      "execution_count": 0,
      "outputs": []
    },
    {
      "cell_type": "code",
      "metadata": {
        "id": "1r79K0cM--Jb",
        "colab_type": "code",
        "colab": {}
      },
      "source": [
        "Group_By.append(pd.DataFrame(df[['SepalLength','SepalWidth','PetalLength','PetalWidth']].sum()).T)"
      ],
      "execution_count": 0,
      "outputs": []
    },
    {
      "cell_type": "markdown",
      "metadata": {
        "id": "VLgipLsh--Jc",
        "colab_type": "text"
      },
      "source": [
        "<pre>------------------------------------------------------------------------------------------</pre>"
      ]
    },
    {
      "cell_type": "markdown",
      "metadata": {
        "id": "WWOPjWbh--Jc",
        "colab_type": "text"
      },
      "source": [
        "# Pivot Tables in Dataframes i.e. Pivot Tables in Excel"
      ]
    },
    {
      "cell_type": "markdown",
      "metadata": {
        "id": "YGwhs13u--Jd",
        "colab_type": "text"
      },
      "source": [
        "Who doesn'l love a Pivot Table in Excel, its one the best ways to analyse your data, have a quick overview of the information, helps you slice and dice the data with a super easy interface, helps you plots graphs basis on the data, add calculative columns etc.\n",
        "<br>No, we wont have an interface to work, we'll have to explicitly write the code to get the output, No, it wont generate charts for you, but I don't think we can complete a tutorial without learning about the Pivot tables."
      ]
    },
    {
      "cell_type": "code",
      "metadata": {
        "id": "AotlL87j--Jd",
        "colab_type": "code",
        "colab": {}
      },
      "source": [
        "pd.pivot_table(df, index= 'Name')#Same as Groupby"
      ],
      "execution_count": 0,
      "outputs": []
    },
    {
      "cell_type": "code",
      "metadata": {
        "id": "AeXaS2mF--Je",
        "colab_type": "code",
        "colab": {}
      },
      "source": [
        "pd.pivot_table(df, values='SepalWidth', index= 'SepalLength',columns='Name', aggfunc = np.sum)"
      ],
      "execution_count": 0,
      "outputs": []
    },
    {
      "cell_type": "markdown",
      "metadata": {
        "id": "6zH3X5nK--Jf",
        "colab_type": "text"
      },
      "source": [
        "A simple Pivot table showing us the sum of SepalWidth in values, SepalLength in Row Column and Name in Column Labels"
      ]
    },
    {
      "cell_type": "markdown",
      "metadata": {
        "id": "1PRZoAV6--Jf",
        "colab_type": "text"
      },
      "source": [
        "Lets see if we can complicate it a bit."
      ]
    },
    {
      "cell_type": "code",
      "metadata": {
        "id": "OJBoum_y--Jf",
        "colab_type": "code",
        "colab": {}
      },
      "source": [
        "pd.pivot_table(df, values='SepalWidth', index= 'SepalLength',columns='Name', aggfunc = np.sum, fill_value=0)"
      ],
      "execution_count": 0,
      "outputs": []
    },
    {
      "cell_type": "markdown",
      "metadata": {
        "id": "ypFaP0Lh--Jg",
        "colab_type": "text"
      },
      "source": [
        "Blanks are now replaced with 0's by using the fill_value argument"
      ]
    },
    {
      "cell_type": "code",
      "metadata": {
        "id": "B34wKO4X--Jg",
        "colab_type": "code",
        "colab": {}
      },
      "source": [
        "pd.pivot_table(df, values=['SepalWidth', 'PetalWidth'], index= 'SepalLength',columns='Name', aggfunc = np.sum, fill_value=0)"
      ],
      "execution_count": 0,
      "outputs": []
    },
    {
      "cell_type": "code",
      "metadata": {
        "id": "UvxOclSe--Jh",
        "colab_type": "code",
        "colab": {}
      },
      "source": [
        "pd.pivot_table(df, values=['SepalWidth', 'PetalWidth'], index= ['SepalLength', 'PetalLength'],columns='Name', aggfunc = np.sum, fill_value=0)"
      ],
      "execution_count": 0,
      "outputs": []
    },
    {
      "cell_type": "code",
      "metadata": {
        "id": "8oEu_7pR--Ji",
        "colab_type": "code",
        "colab": {}
      },
      "source": [
        "pd.pivot_table(df, values=['SepalWidth', 'PetalWidth'], index= 'SepalLength',columns='Name', \n",
        "               aggfunc = {'SepalWidth': np.sum, 'PetalWidth': np.mean}, fill_value=0)"
      ],
      "execution_count": 0,
      "outputs": []
    },
    {
      "cell_type": "markdown",
      "metadata": {
        "id": "EfkUeK9F--Jj",
        "colab_type": "text"
      },
      "source": [
        "We can have individual calculations on values using dictionary method and can also have multiple calculations on values"
      ]
    },
    {
      "cell_type": "code",
      "metadata": {
        "id": "xspl48ya--Jj",
        "colab_type": "code",
        "colab": {}
      },
      "source": [
        "pd.pivot_table(df, values=['SepalWidth', 'PetalWidth'], index= 'SepalLength',columns='Name', \n",
        "               aggfunc = {'SepalWidth': np.sum, 'PetalWidth': np.mean}, fill_value=0, margins=True)"
      ],
      "execution_count": 0,
      "outputs": []
    },
    {
      "cell_type": "markdown",
      "metadata": {
        "id": "urewLFeK--Jk",
        "colab_type": "text"
      },
      "source": [
        "If we use margins argument, we can have total row added"
      ]
    },
    {
      "cell_type": "markdown",
      "metadata": {
        "id": "bbRHnKdG--Jk",
        "colab_type": "text"
      },
      "source": [
        "<pre>------------------------------------------------------------------------------------------</pre>"
      ]
    },
    {
      "cell_type": "markdown",
      "metadata": {
        "id": "Cze4j4ed--Jk",
        "colab_type": "text"
      },
      "source": [
        "# Vlookup"
      ]
    },
    {
      "cell_type": "markdown",
      "metadata": {
        "id": "95KVOXzm--Jl",
        "colab_type": "text"
      },
      "source": [
        "What a magical formula is vlookup in Excel, I think its the first thing that everyone wants to learn before learning how to even add. Looks fascinating when someone is applying vlookup, looks like magic when we get the output. Makes life easy. I can with very much confidence can say its the backbone of every data wrangling action performed on the spreadsheet.\n",
        "<br>\n",
        "<br>__Unfortunately__ we dont have a vlookup function in Pandas!\n",
        "<br>\n",
        "<br>Since we dont have a \"Vlookup\" function in Pandas, Merge is used as an alternate which is same as SQL. There are a total of four merge options available:\n",
        "* ‘left’ — Use the shared column from the left dataframe and match to right dataframe. Fill in any N/A as NaN\n",
        "\n",
        "* ‘right’ — Use the shared column from the right dataframe and match to left dataframe. Fill in any N/A as NaN\n",
        "\n",
        "* ‘inner’ — Only show data where the two shared columns overlap. Default method.\n",
        "\n",
        "* ‘outer’ — Return all records when there is a match in either left or right dataframe.\n",
        "<br>"
      ]
    },
    {
      "cell_type": "code",
      "metadata": {
        "id": "SG8eOAr_--Jl",
        "colab_type": "code",
        "colab": {}
      },
      "source": [
        "df1 = pd.read_excel(filename)"
      ],
      "execution_count": 0,
      "outputs": []
    },
    {
      "cell_type": "code",
      "metadata": {
        "id": "tb8tt4He--Jm",
        "colab_type": "code",
        "colab": {}
      },
      "source": [
        "lookup = df.merge(df,on='Name')"
      ],
      "execution_count": 0,
      "outputs": []
    },
    {
      "cell_type": "code",
      "metadata": {
        "id": "Mh_R8QPo--Jm",
        "colab_type": "code",
        "colab": {}
      },
      "source": [
        "lookup"
      ],
      "execution_count": 0,
      "outputs": []
    },
    {
      "cell_type": "markdown",
      "metadata": {
        "id": "OQjXmpxj--Jn",
        "colab_type": "text"
      },
      "source": [
        "The above might not be the best example to suppport the concept, however the working is the same."
      ]
    },
    {
      "cell_type": "markdown",
      "metadata": {
        "id": "IIvRFHs7--Jn",
        "colab_type": "text"
      },
      "source": [
        "<pre>------------------------------------------------------------------------------------------</pre>"
      ]
    },
    {
      "cell_type": "markdown",
      "metadata": {
        "id": "yaIVHapB--Jo",
        "colab_type": "text"
      },
      "source": [
        "I am hoping this tutorial made some sense, though I agree this could have been more elaborative which I will be pursuing soon.\n",
        "<br>__Watch out the space for more of it.__"
      ]
    }
  ]
}